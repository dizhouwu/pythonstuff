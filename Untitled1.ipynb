{
 "cells": [
  {
   "cell_type": "code",
   "execution_count": 69,
   "id": "719a7c4e-bf81-45f5-a055-360825693016",
   "metadata": {},
   "outputs": [],
   "source": [
    "import pyarrow as pa\n",
    "import pandas as pd\n",
    "import random\n",
    "import numpy as np\n",
    "\n",
    "def get_df(dtype):\n",
    "    np.random.seed(0)\n",
    "    a = np.random.randint(np.iinfo(dtype).min,np.iinfo(dtype).max, size=1_000_000, dtype=dtype)\n",
    "    return pd.DataFrame({\"a\": a})\n",
    "\n",
    "def foo1(df: pd.DataFrame, pa_type):\n",
    "    out_col = \"a\"\n",
    "    if pa_type == pa.int64():\n",
    "        df[out_col] = df[out_col].astype(\"Int64\")\n",
    "    elif pa_type == pa.uint64():\n",
    "        df[out_col] = df[out_col].astype(\"UInt64\")\n",
    "    elif pa_type == pa.int32():\n",
    "        df[out_col] = df[out_col].astype(\"Int32\")\n",
    "    elif pa_type == pa.uint32():\n",
    "        df[out_col] = df[out_col].astype(\"UInt32\")\n",
    "    elif pa_type == pa.int16():\n",
    "        df[out_col] = df[out_col].astype(\"Int16\")\n",
    "    elif pa_type == pa.uint16():\n",
    "        df[out_col] = df[out_col].astype(\"UInt16\")\n",
    "    elif pa_type == pa.int8():\n",
    "        df[out_col] = df[out_col].astype(\"Int8\")\n",
    "    elif pa_type == pa.uint8():\n",
    "        df[out_col] = df[out_col].astype(\"UInt8\")\n",
    "    return df\n",
    "\n",
    "dfs = [get_df(dtype) for dtype in [np.int64, np.uint64, np.int32, np.uint32, np.int16, np.uint16, np.int8, np.uint8]]\n",
    "\n",
    "def foo2(df: pd.DataFrame, pa_type):\n",
    "    _map = {pa.int64(): \"Int64\", pa.uint64(): \"UInt64\", \n",
    "        pa.int32(): \"Int32\",   pa.uint32(): \"UInt32\",\n",
    "        pa.int16(): \"Int16\",   pa.uint16(): \"UInt16\",\n",
    "        pa.int8(): \"Int8\",   pa.uint8(): \"UInt8\",}\n",
    "    out_col = \"a\"\n",
    "    df[out_col] = df[out_col].astype(_map[pa_type])\n",
    "    return df"
   ]
  },
  {
   "cell_type": "code",
   "execution_count": 70,
   "id": "c1b760c0-07ab-4847-b5d2-762b57e65b26",
   "metadata": {
    "scrolled": true,
    "tags": []
   },
   "outputs": [
    {
     "name": "stdout",
     "output_type": "stream",
     "text": [
      "12.1 ms ± 161 µs per loop (mean ± std. dev. of 7 runs, 100 loops each)\n"
     ]
    }
   ],
   "source": [
    "%%timeit \n",
    "for pa_type, df in zip([pa.int64(), pa.uint64(),pa.int32(), pa.uint32(),pa.int16(),pa.uint16(), pa.int8(),pa.uint8()], dfs):\n",
    "    foo1(df, pa_type)"
   ]
  },
  {
   "cell_type": "code",
   "execution_count": 72,
   "id": "a1db3623-e4be-4362-9fb3-b0ca5da04df7",
   "metadata": {},
   "outputs": [
    {
     "name": "stderr",
     "output_type": "stream",
     "text": [
      "UsageError: Line magic function `%lprun` not found.\n"
     ]
    }
   ],
   "source": [
    "%lprun\n",
    "foo1(df[0], pa_types[0])"
   ]
  },
  {
   "cell_type": "code",
   "execution_count": null,
   "id": "c72869fc-5b77-41fd-8cd5-b1eadbf6050b",
   "metadata": {},
   "outputs": [],
   "source": []
  },
  {
   "cell_type": "code",
   "execution_count": 71,
   "id": "7039bbac-cd97-455d-90b1-825e0506bbaf",
   "metadata": {},
   "outputs": [
    {
     "name": "stdout",
     "output_type": "stream",
     "text": [
      "12.9 ms ± 1.02 ms per loop (mean ± std. dev. of 7 runs, 100 loops each)\n"
     ]
    }
   ],
   "source": [
    "%%timeit \n",
    "for pa_type, df in zip([pa.int64(), pa.uint64(),pa.int32(), pa.uint32(),pa.int16(),pa.uint16(), pa.int8(),pa.uint8()], dfs):\n",
    "    foo2(df, pa_type)"
   ]
  },
  {
   "cell_type": "code",
   "execution_count": null,
   "id": "eb25f153-7143-4c29-a029-16b9e8d76eef",
   "metadata": {},
   "outputs": [],
   "source": []
  },
  {
   "cell_type": "code",
   "execution_count": null,
   "id": "c0eec8e9-ff6e-41aa-9d71-ef9fd1f408ff",
   "metadata": {},
   "outputs": [],
   "source": []
  },
  {
   "cell_type": "code",
   "execution_count": null,
   "id": "0c59ed23-9ccc-43ce-961e-5243bf75cbc9",
   "metadata": {},
   "outputs": [],
   "source": []
  },
  {
   "cell_type": "code",
   "execution_count": null,
   "id": "ef766cf3-0c01-4459-a635-e2124300a4f7",
   "metadata": {},
   "outputs": [],
   "source": []
  },
  {
   "cell_type": "code",
   "execution_count": null,
   "id": "792ab97d-a079-4f3d-b362-7ee34ecdfabb",
   "metadata": {},
   "outputs": [],
   "source": []
  }
 ],
 "metadata": {
  "kernelspec": {
   "display_name": "tps.4",
   "language": "python",
   "name": "tps.4"
  },
  "language_info": {
   "codemirror_mode": {
    "name": "ipython",
    "version": 3
   },
   "file_extension": ".py",
   "mimetype": "text/x-python",
   "name": "python",
   "nbconvert_exporter": "python",
   "pygments_lexer": "ipython3",
   "version": "3.6.8"
  }
 },
 "nbformat": 4,
 "nbformat_minor": 5
}
